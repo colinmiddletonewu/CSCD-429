{
 "metadata": {
  "language_info": {
   "codemirror_mode": {
    "name": "ipython",
    "version": 3
   },
   "file_extension": ".py",
   "mimetype": "text/x-python",
   "name": "python",
   "nbconvert_exporter": "python",
   "pygments_lexer": "ipython3",
   "version": "3.8.6-final"
  },
  "orig_nbformat": 2,
  "kernelspec": {
   "name": "python3",
   "display_name": "Python 3"
  }
 },
 "nbformat": 4,
 "nbformat_minor": 2,
 "cells": [
  {
   "source": [
    "# CSCD 429: HW2\n",
    "## Colin Middleton\n",
    "## Dr. Dan Li\n",
    "## 10/21/20"
   ],
   "cell_type": "markdown",
   "metadata": {}
  },
  {
   "source": [
    "# Outline\n",
    "## Imports\n",
    "## Read Data Into Dataframes\n",
    "## Data Exploration\n",
    "## Preprocessing"
   ],
   "cell_type": "markdown",
   "metadata": {}
  },
  {
   "source": [
    "## Package Imports"
   ],
   "cell_type": "markdown",
   "metadata": {}
  },
  {
   "cell_type": "code",
   "execution_count": 201,
   "metadata": {},
   "outputs": [],
   "source": [
    "import pandas as pd # For data manipulation\n",
    "import numpy as np # For calculating things\n",
    "from statistics import mode # For finding most frequent class label from nearest neighbors"
   ]
  },
  {
   "source": [
    "## Read Data Into Dataframes"
   ],
   "cell_type": "markdown",
   "metadata": {}
  },
  {
   "cell_type": "code",
   "execution_count": 202,
   "metadata": {},
   "outputs": [],
   "source": [
    "# 'Training' Data\n",
    "data_Genes_relation = pd.read_csv(\"gene_files/Genes_relation.data\")\n",
    "data_Interactions_relation = pd.read_csv(\"gene_files/Interactions_relation.data\", header=None)\n",
    "\n",
    "# Testing Data\n",
    "test_Genes_relation = pd.read_csv(\"gene_files/Genes_relation.test\")\n",
    "test_Interactions_relation = pd.read_csv(\"gene_files/Interactions_relation.test\", header=None)\n",
    "keys_relation = pd.read_csv(\"gene_files/keys.txt\")"
   ]
  },
  {
   "source": [
    "## Data Exploration"
   ],
   "cell_type": "markdown",
   "metadata": {}
  },
  {
   "source": [
    "### Genes_relation"
   ],
   "cell_type": "markdown",
   "metadata": {}
  },
  {
   "cell_type": "code",
   "execution_count": 203,
   "metadata": {},
   "outputs": [
    {
     "output_type": "execute_result",
     "data": {
      "text/plain": [
       "    GeneID      Essential                            Class  \\\n",
       "0  G234064      Essential  GTP/GDP-exchange factors (GEFs)   \n",
       "1  G234064      Essential  GTP/GDP-exchange factors (GEFs)   \n",
       "2  G234064      Essential  GTP/GDP-exchange factors (GEFs)   \n",
       "3  G234064      Essential  GTP/GDP-exchange factors (GEFs)   \n",
       "4  G234065  Non-Essential                          ATPases   \n",
       "\n",
       "                 Complex Phenotype    Motif Chromosome  \\\n",
       "0  Translation complexes         ?  PS00824          1   \n",
       "1  Translation complexes         ?  PS00824          1   \n",
       "2  Translation complexes         ?  PS00825          1   \n",
       "3  Translation complexes         ?  PS00825          1   \n",
       "4                      ?         ?        ?          1   \n",
       "\n",
       "                                            Function Localization  \n",
       "0  CELLULAR ORGANIZATION (proteins are localized ...    cytoplasm  \n",
       "1                                  PROTEIN SYNTHESIS    cytoplasm  \n",
       "2  CELLULAR ORGANIZATION (proteins are localized ...    cytoplasm  \n",
       "3                                  PROTEIN SYNTHESIS    cytoplasm  \n",
       "4        CELL RESCUE, DEFENSE, CELL DEATH AND AGEING    cytoplasm  "
      ],
      "text/html": "<div>\n<style scoped>\n    .dataframe tbody tr th:only-of-type {\n        vertical-align: middle;\n    }\n\n    .dataframe tbody tr th {\n        vertical-align: top;\n    }\n\n    .dataframe thead th {\n        text-align: right;\n    }\n</style>\n<table border=\"1\" class=\"dataframe\">\n  <thead>\n    <tr style=\"text-align: right;\">\n      <th></th>\n      <th>GeneID</th>\n      <th>Essential</th>\n      <th>Class</th>\n      <th>Complex</th>\n      <th>Phenotype</th>\n      <th>Motif</th>\n      <th>Chromosome</th>\n      <th>Function</th>\n      <th>Localization</th>\n    </tr>\n  </thead>\n  <tbody>\n    <tr>\n      <th>0</th>\n      <td>G234064</td>\n      <td>Essential</td>\n      <td>GTP/GDP-exchange factors (GEFs)</td>\n      <td>Translation complexes</td>\n      <td>?</td>\n      <td>PS00824</td>\n      <td>1</td>\n      <td>CELLULAR ORGANIZATION (proteins are localized ...</td>\n      <td>cytoplasm</td>\n    </tr>\n    <tr>\n      <th>1</th>\n      <td>G234064</td>\n      <td>Essential</td>\n      <td>GTP/GDP-exchange factors (GEFs)</td>\n      <td>Translation complexes</td>\n      <td>?</td>\n      <td>PS00824</td>\n      <td>1</td>\n      <td>PROTEIN SYNTHESIS</td>\n      <td>cytoplasm</td>\n    </tr>\n    <tr>\n      <th>2</th>\n      <td>G234064</td>\n      <td>Essential</td>\n      <td>GTP/GDP-exchange factors (GEFs)</td>\n      <td>Translation complexes</td>\n      <td>?</td>\n      <td>PS00825</td>\n      <td>1</td>\n      <td>CELLULAR ORGANIZATION (proteins are localized ...</td>\n      <td>cytoplasm</td>\n    </tr>\n    <tr>\n      <th>3</th>\n      <td>G234064</td>\n      <td>Essential</td>\n      <td>GTP/GDP-exchange factors (GEFs)</td>\n      <td>Translation complexes</td>\n      <td>?</td>\n      <td>PS00825</td>\n      <td>1</td>\n      <td>PROTEIN SYNTHESIS</td>\n      <td>cytoplasm</td>\n    </tr>\n    <tr>\n      <th>4</th>\n      <td>G234065</td>\n      <td>Non-Essential</td>\n      <td>ATPases</td>\n      <td>?</td>\n      <td>?</td>\n      <td>?</td>\n      <td>1</td>\n      <td>CELL RESCUE, DEFENSE, CELL DEATH AND AGEING</td>\n      <td>cytoplasm</td>\n    </tr>\n  </tbody>\n</table>\n</div>"
     },
     "metadata": {},
     "execution_count": 203
    }
   ],
   "source": [
    "# Check data values\n",
    "data_Genes_relation.head()"
   ]
  },
  {
   "cell_type": "code",
   "execution_count": 204,
   "metadata": {},
   "outputs": [
    {
     "output_type": "execute_result",
     "data": {
      "text/plain": [
       "         GeneID      Essential Class Complex Phenotype Motif Chromosome  \\\n",
       "count      4346           4346  4346    4346      4346  4346       4346   \n",
       "unique      862              4    24      52        13   236         17   \n",
       "top     G234227  Non-Essential     ?       ?         ?     ?          4   \n",
       "freq         60           2824  2657    1890      1065  2239        672   \n",
       "\n",
       "                                                 Function Localization  \n",
       "count                                                4346         4346  \n",
       "unique                                                 13           15  \n",
       "top     CELLULAR ORGANIZATION (proteins are localized ...      nucleus  \n",
       "freq                                                 1532         1671  "
      ],
      "text/html": "<div>\n<style scoped>\n    .dataframe tbody tr th:only-of-type {\n        vertical-align: middle;\n    }\n\n    .dataframe tbody tr th {\n        vertical-align: top;\n    }\n\n    .dataframe thead th {\n        text-align: right;\n    }\n</style>\n<table border=\"1\" class=\"dataframe\">\n  <thead>\n    <tr style=\"text-align: right;\">\n      <th></th>\n      <th>GeneID</th>\n      <th>Essential</th>\n      <th>Class</th>\n      <th>Complex</th>\n      <th>Phenotype</th>\n      <th>Motif</th>\n      <th>Chromosome</th>\n      <th>Function</th>\n      <th>Localization</th>\n    </tr>\n  </thead>\n  <tbody>\n    <tr>\n      <th>count</th>\n      <td>4346</td>\n      <td>4346</td>\n      <td>4346</td>\n      <td>4346</td>\n      <td>4346</td>\n      <td>4346</td>\n      <td>4346</td>\n      <td>4346</td>\n      <td>4346</td>\n    </tr>\n    <tr>\n      <th>unique</th>\n      <td>862</td>\n      <td>4</td>\n      <td>24</td>\n      <td>52</td>\n      <td>13</td>\n      <td>236</td>\n      <td>17</td>\n      <td>13</td>\n      <td>15</td>\n    </tr>\n    <tr>\n      <th>top</th>\n      <td>G234227</td>\n      <td>Non-Essential</td>\n      <td>?</td>\n      <td>?</td>\n      <td>?</td>\n      <td>?</td>\n      <td>4</td>\n      <td>CELLULAR ORGANIZATION (proteins are localized ...</td>\n      <td>nucleus</td>\n    </tr>\n    <tr>\n      <th>freq</th>\n      <td>60</td>\n      <td>2824</td>\n      <td>2657</td>\n      <td>1890</td>\n      <td>1065</td>\n      <td>2239</td>\n      <td>672</td>\n      <td>1532</td>\n      <td>1671</td>\n    </tr>\n  </tbody>\n</table>\n</div>"
     },
     "metadata": {},
     "execution_count": 204
    }
   ],
   "source": [
    "data_Genes_relation.describe()"
   ]
  },
  {
   "source": [
    "### Interactions_relation"
   ],
   "cell_type": "markdown",
   "metadata": {}
  },
  {
   "cell_type": "code",
   "execution_count": 205,
   "metadata": {},
   "outputs": [
    {
     "output_type": "execute_result",
     "data": {
      "text/plain": [
       "   GeneID1  GeneID2      Type Expression_Corr\n",
       "0  G238510  G239467   Genetic    0.252653076.\n",
       "1  G235550  G239467  Physical    0.709247942.\n",
       "2  G235621  G239467  Physical   -0.001238791.\n",
       "3  G235265  G239467  Physical    0.482255315.\n",
       "4  G234935  G234445  Physical   -0.460856268."
      ],
      "text/html": "<div>\n<style scoped>\n    .dataframe tbody tr th:only-of-type {\n        vertical-align: middle;\n    }\n\n    .dataframe tbody tr th {\n        vertical-align: top;\n    }\n\n    .dataframe thead th {\n        text-align: right;\n    }\n</style>\n<table border=\"1\" class=\"dataframe\">\n  <thead>\n    <tr style=\"text-align: right;\">\n      <th></th>\n      <th>GeneID1</th>\n      <th>GeneID2</th>\n      <th>Type</th>\n      <th>Expression_Corr</th>\n    </tr>\n  </thead>\n  <tbody>\n    <tr>\n      <th>0</th>\n      <td>G238510</td>\n      <td>G239467</td>\n      <td>Genetic</td>\n      <td>0.252653076.</td>\n    </tr>\n    <tr>\n      <th>1</th>\n      <td>G235550</td>\n      <td>G239467</td>\n      <td>Physical</td>\n      <td>0.709247942.</td>\n    </tr>\n    <tr>\n      <th>2</th>\n      <td>G235621</td>\n      <td>G239467</td>\n      <td>Physical</td>\n      <td>-0.001238791.</td>\n    </tr>\n    <tr>\n      <th>3</th>\n      <td>G235265</td>\n      <td>G239467</td>\n      <td>Physical</td>\n      <td>0.482255315.</td>\n    </tr>\n    <tr>\n      <th>4</th>\n      <td>G234935</td>\n      <td>G234445</td>\n      <td>Physical</td>\n      <td>-0.460856268.</td>\n    </tr>\n  </tbody>\n</table>\n</div>"
     },
     "metadata": {},
     "execution_count": 205
    }
   ],
   "source": [
    "# Label columns in Interactions data and check values\n",
    "data_Interactions_relation.columns = ['GeneID1', 'GeneID2', 'Type', 'Expression_Corr']\n",
    "data_Interactions_relation.head()"
   ]
  },
  {
   "cell_type": "code",
   "execution_count": 206,
   "metadata": {},
   "outputs": [
    {
     "output_type": "execute_result",
     "data": {
      "text/plain": [
       "        GeneID1  GeneID2      Type Expression_Corr\n",
       "count       910      910       910             910\n",
       "unique      460      453         3             817\n",
       "top     G235439  G237021  Physical              1.\n",
       "freq         14       10       549              43"
      ],
      "text/html": "<div>\n<style scoped>\n    .dataframe tbody tr th:only-of-type {\n        vertical-align: middle;\n    }\n\n    .dataframe tbody tr th {\n        vertical-align: top;\n    }\n\n    .dataframe thead th {\n        text-align: right;\n    }\n</style>\n<table border=\"1\" class=\"dataframe\">\n  <thead>\n    <tr style=\"text-align: right;\">\n      <th></th>\n      <th>GeneID1</th>\n      <th>GeneID2</th>\n      <th>Type</th>\n      <th>Expression_Corr</th>\n    </tr>\n  </thead>\n  <tbody>\n    <tr>\n      <th>count</th>\n      <td>910</td>\n      <td>910</td>\n      <td>910</td>\n      <td>910</td>\n    </tr>\n    <tr>\n      <th>unique</th>\n      <td>460</td>\n      <td>453</td>\n      <td>3</td>\n      <td>817</td>\n    </tr>\n    <tr>\n      <th>top</th>\n      <td>G235439</td>\n      <td>G237021</td>\n      <td>Physical</td>\n      <td>1.</td>\n    </tr>\n    <tr>\n      <th>freq</th>\n      <td>14</td>\n      <td>10</td>\n      <td>549</td>\n      <td>43</td>\n    </tr>\n  </tbody>\n</table>\n</div>"
     },
     "metadata": {},
     "execution_count": 206
    }
   ],
   "source": [
    "data_Interactions_relation.describe()"
   ]
  },
  {
   "source": [
    "### test_Genes_relation"
   ],
   "cell_type": "markdown",
   "metadata": {}
  },
  {
   "cell_type": "code",
   "execution_count": 207,
   "metadata": {},
   "outputs": [
    {
     "output_type": "execute_result",
     "data": {
      "text/plain": [
       "    GeneID      Essential                  Class  \\\n",
       "0  G234273      Essential                ATPases   \n",
       "1  G234490  Non-Essential  Transcription factors   \n",
       "2  G236380              ?                      ?   \n",
       "3  G234394      Essential                 Actins   \n",
       "4  G234385  Non-Essential   Molecular chaperones   \n",
       "\n",
       "                                             Complex  \\\n",
       "0  Chaperonine containing T-complex TRiC (TCP RIN...   \n",
       "1                                                  ?   \n",
       "2                                                  ?   \n",
       "3                                       Cytoskeleton   \n",
       "4                                                  ?   \n",
       "\n",
       "                               Phenotype    Motif Chromosome Function  \\\n",
       "0  Cell morphology and organelle mutants        ?          4        ?   \n",
       "1  Cell morphology and organelle mutants  PS00028          8        ?   \n",
       "2                                      ?        ?          7        ?   \n",
       "3                     Cell cycle defects  PS00432          6        ?   \n",
       "4               Auxotrophies, carbon and  PS00190          6        ?   \n",
       "\n",
       "  Localization  \n",
       "0            ?  \n",
       "1            ?  \n",
       "2            ?  \n",
       "3            ?  \n",
       "4            ?  "
      ],
      "text/html": "<div>\n<style scoped>\n    .dataframe tbody tr th:only-of-type {\n        vertical-align: middle;\n    }\n\n    .dataframe tbody tr th {\n        vertical-align: top;\n    }\n\n    .dataframe thead th {\n        text-align: right;\n    }\n</style>\n<table border=\"1\" class=\"dataframe\">\n  <thead>\n    <tr style=\"text-align: right;\">\n      <th></th>\n      <th>GeneID</th>\n      <th>Essential</th>\n      <th>Class</th>\n      <th>Complex</th>\n      <th>Phenotype</th>\n      <th>Motif</th>\n      <th>Chromosome</th>\n      <th>Function</th>\n      <th>Localization</th>\n    </tr>\n  </thead>\n  <tbody>\n    <tr>\n      <th>0</th>\n      <td>G234273</td>\n      <td>Essential</td>\n      <td>ATPases</td>\n      <td>Chaperonine containing T-complex TRiC (TCP RIN...</td>\n      <td>Cell morphology and organelle mutants</td>\n      <td>?</td>\n      <td>4</td>\n      <td>?</td>\n      <td>?</td>\n    </tr>\n    <tr>\n      <th>1</th>\n      <td>G234490</td>\n      <td>Non-Essential</td>\n      <td>Transcription factors</td>\n      <td>?</td>\n      <td>Cell morphology and organelle mutants</td>\n      <td>PS00028</td>\n      <td>8</td>\n      <td>?</td>\n      <td>?</td>\n    </tr>\n    <tr>\n      <th>2</th>\n      <td>G236380</td>\n      <td>?</td>\n      <td>?</td>\n      <td>?</td>\n      <td>?</td>\n      <td>?</td>\n      <td>7</td>\n      <td>?</td>\n      <td>?</td>\n    </tr>\n    <tr>\n      <th>3</th>\n      <td>G234394</td>\n      <td>Essential</td>\n      <td>Actins</td>\n      <td>Cytoskeleton</td>\n      <td>Cell cycle defects</td>\n      <td>PS00432</td>\n      <td>6</td>\n      <td>?</td>\n      <td>?</td>\n    </tr>\n    <tr>\n      <th>4</th>\n      <td>G234385</td>\n      <td>Non-Essential</td>\n      <td>Molecular chaperones</td>\n      <td>?</td>\n      <td>Auxotrophies, carbon and</td>\n      <td>PS00190</td>\n      <td>6</td>\n      <td>?</td>\n      <td>?</td>\n    </tr>\n  </tbody>\n</table>\n</div>"
     },
     "metadata": {},
     "execution_count": 207
    }
   ],
   "source": [
    "test_Genes_relation.head()"
   ]
  },
  {
   "source": [
    "### test_Interactions_relation"
   ],
   "cell_type": "markdown",
   "metadata": {}
  },
  {
   "cell_type": "code",
   "execution_count": 208,
   "metadata": {},
   "outputs": [
    {
     "output_type": "execute_result",
     "data": {
      "text/plain": [
       "         0        1                 2             3\n",
       "0  G234651  G235906          Physical   0.72595548.\n",
       "1  G234565  G235541  Genetic-Physical   0.87259026.\n",
       "2  G234565  G235681                 ?   0.49456466.\n",
       "3  G234570  G235695          Physical  -0.05846251.\n",
       "4  G234299  G234974                 ?   0.35732472."
      ],
      "text/html": "<div>\n<style scoped>\n    .dataframe tbody tr th:only-of-type {\n        vertical-align: middle;\n    }\n\n    .dataframe tbody tr th {\n        vertical-align: top;\n    }\n\n    .dataframe thead th {\n        text-align: right;\n    }\n</style>\n<table border=\"1\" class=\"dataframe\">\n  <thead>\n    <tr style=\"text-align: right;\">\n      <th></th>\n      <th>0</th>\n      <th>1</th>\n      <th>2</th>\n      <th>3</th>\n    </tr>\n  </thead>\n  <tbody>\n    <tr>\n      <th>0</th>\n      <td>G234651</td>\n      <td>G235906</td>\n      <td>Physical</td>\n      <td>0.72595548.</td>\n    </tr>\n    <tr>\n      <th>1</th>\n      <td>G234565</td>\n      <td>G235541</td>\n      <td>Genetic-Physical</td>\n      <td>0.87259026.</td>\n    </tr>\n    <tr>\n      <th>2</th>\n      <td>G234565</td>\n      <td>G235681</td>\n      <td>?</td>\n      <td>0.49456466.</td>\n    </tr>\n    <tr>\n      <th>3</th>\n      <td>G234570</td>\n      <td>G235695</td>\n      <td>Physical</td>\n      <td>-0.05846251.</td>\n    </tr>\n    <tr>\n      <th>4</th>\n      <td>G234299</td>\n      <td>G234974</td>\n      <td>?</td>\n      <td>0.35732472.</td>\n    </tr>\n  </tbody>\n</table>\n</div>"
     },
     "metadata": {},
     "execution_count": 208
    }
   ],
   "source": [
    "test_Interactions_relation.head()"
   ]
  },
  {
   "source": [
    "### keys_relation"
   ],
   "cell_type": "markdown",
   "metadata": {}
  },
  {
   "cell_type": "code",
   "execution_count": 209,
   "metadata": {},
   "outputs": [
    {
     "output_type": "execute_result",
     "data": {
      "text/plain": [
       "    GeneID  Localization\n",
       "0  G234062  mitochondria\n",
       "1  G234081       nucleus\n",
       "2  G234086  mitochondria\n",
       "3  G234087       nucleus\n",
       "4  G234094       nucleus"
      ],
      "text/html": "<div>\n<style scoped>\n    .dataframe tbody tr th:only-of-type {\n        vertical-align: middle;\n    }\n\n    .dataframe tbody tr th {\n        vertical-align: top;\n    }\n\n    .dataframe thead th {\n        text-align: right;\n    }\n</style>\n<table border=\"1\" class=\"dataframe\">\n  <thead>\n    <tr style=\"text-align: right;\">\n      <th></th>\n      <th>GeneID</th>\n      <th>Localization</th>\n    </tr>\n  </thead>\n  <tbody>\n    <tr>\n      <th>0</th>\n      <td>G234062</td>\n      <td>mitochondria</td>\n    </tr>\n    <tr>\n      <th>1</th>\n      <td>G234081</td>\n      <td>nucleus</td>\n    </tr>\n    <tr>\n      <th>2</th>\n      <td>G234086</td>\n      <td>mitochondria</td>\n    </tr>\n    <tr>\n      <th>3</th>\n      <td>G234087</td>\n      <td>nucleus</td>\n    </tr>\n    <tr>\n      <th>4</th>\n      <td>G234094</td>\n      <td>nucleus</td>\n    </tr>\n  </tbody>\n</table>\n</div>"
     },
     "metadata": {},
     "execution_count": 209
    }
   ],
   "source": [
    "keys_relation.head()"
   ]
  },
  {
   "source": [
    "## Preprocessing"
   ],
   "cell_type": "markdown",
   "metadata": {}
  },
  {
   "cell_type": "code",
   "execution_count": 210,
   "metadata": {},
   "outputs": [],
   "source": [
    "def preprocess(genes_relation, interactions_relation):\n",
    "    # Step 1: Rename interactions_relation attributes\n",
    "    interactions_relation_1 = interactions_relation.copy()\n",
    "    interactions_relation_1.columns = ['GeneID1', 'Interaction', 'Type', 'Expression_Corr']\n",
    "    # Step 2: Left join genes_relation and interactions_relation_1 on 'GeneID'\n",
    "    combined_relation = genes_relation.join(interactions_relation_1.set_index('GeneID1'), on='GeneID', how='left')\n",
    "    # Step 3: Drop 'Function' attribute\n",
    "    combined_relation.drop(columns='Function', axis=1, inplace=True)\n",
    "    # Step 4: Replaced all '?' and '?.' with NaN\n",
    "    combined_relation.replace('?', np.nan, inplace=True)\n",
    "    combined_relation.replace('?.', np.nan, inplace=True)\n",
    "\n",
    "    return combined_relation"
   ]
  },
  {
   "cell_type": "code",
   "execution_count": 211,
   "metadata": {},
   "outputs": [
    {
     "output_type": "execute_result",
     "data": {
      "text/plain": [
       "    GeneID  Essential                            Class                Complex  \\\n",
       "0  G234064  Essential  GTP/GDP-exchange factors (GEFs)  Translation complexes   \n",
       "0  G234064  Essential  GTP/GDP-exchange factors (GEFs)  Translation complexes   \n",
       "1  G234064  Essential  GTP/GDP-exchange factors (GEFs)  Translation complexes   \n",
       "1  G234064  Essential  GTP/GDP-exchange factors (GEFs)  Translation complexes   \n",
       "2  G234064  Essential  GTP/GDP-exchange factors (GEFs)  Translation complexes   \n",
       "\n",
       "  Phenotype    Motif Chromosome Localization Interaction              Type  \\\n",
       "0       NaN  PS00824          1    cytoplasm     G234126  Genetic-Physical   \n",
       "0       NaN  PS00824          1    cytoplasm     G235065  Genetic-Physical   \n",
       "1       NaN  PS00824          1    cytoplasm     G234126  Genetic-Physical   \n",
       "1       NaN  PS00824          1    cytoplasm     G235065  Genetic-Physical   \n",
       "2       NaN  PS00825          1    cytoplasm     G234126  Genetic-Physical   \n",
       "\n",
       "  Expression_Corr  \n",
       "0    0.914095071.  \n",
       "0    0.751584888.  \n",
       "1    0.914095071.  \n",
       "1    0.751584888.  \n",
       "2    0.914095071.  "
      ],
      "text/html": "<div>\n<style scoped>\n    .dataframe tbody tr th:only-of-type {\n        vertical-align: middle;\n    }\n\n    .dataframe tbody tr th {\n        vertical-align: top;\n    }\n\n    .dataframe thead th {\n        text-align: right;\n    }\n</style>\n<table border=\"1\" class=\"dataframe\">\n  <thead>\n    <tr style=\"text-align: right;\">\n      <th></th>\n      <th>GeneID</th>\n      <th>Essential</th>\n      <th>Class</th>\n      <th>Complex</th>\n      <th>Phenotype</th>\n      <th>Motif</th>\n      <th>Chromosome</th>\n      <th>Localization</th>\n      <th>Interaction</th>\n      <th>Type</th>\n      <th>Expression_Corr</th>\n    </tr>\n  </thead>\n  <tbody>\n    <tr>\n      <th>0</th>\n      <td>G234064</td>\n      <td>Essential</td>\n      <td>GTP/GDP-exchange factors (GEFs)</td>\n      <td>Translation complexes</td>\n      <td>NaN</td>\n      <td>PS00824</td>\n      <td>1</td>\n      <td>cytoplasm</td>\n      <td>G234126</td>\n      <td>Genetic-Physical</td>\n      <td>0.914095071.</td>\n    </tr>\n    <tr>\n      <th>0</th>\n      <td>G234064</td>\n      <td>Essential</td>\n      <td>GTP/GDP-exchange factors (GEFs)</td>\n      <td>Translation complexes</td>\n      <td>NaN</td>\n      <td>PS00824</td>\n      <td>1</td>\n      <td>cytoplasm</td>\n      <td>G235065</td>\n      <td>Genetic-Physical</td>\n      <td>0.751584888.</td>\n    </tr>\n    <tr>\n      <th>1</th>\n      <td>G234064</td>\n      <td>Essential</td>\n      <td>GTP/GDP-exchange factors (GEFs)</td>\n      <td>Translation complexes</td>\n      <td>NaN</td>\n      <td>PS00824</td>\n      <td>1</td>\n      <td>cytoplasm</td>\n      <td>G234126</td>\n      <td>Genetic-Physical</td>\n      <td>0.914095071.</td>\n    </tr>\n    <tr>\n      <th>1</th>\n      <td>G234064</td>\n      <td>Essential</td>\n      <td>GTP/GDP-exchange factors (GEFs)</td>\n      <td>Translation complexes</td>\n      <td>NaN</td>\n      <td>PS00824</td>\n      <td>1</td>\n      <td>cytoplasm</td>\n      <td>G235065</td>\n      <td>Genetic-Physical</td>\n      <td>0.751584888.</td>\n    </tr>\n    <tr>\n      <th>2</th>\n      <td>G234064</td>\n      <td>Essential</td>\n      <td>GTP/GDP-exchange factors (GEFs)</td>\n      <td>Translation complexes</td>\n      <td>NaN</td>\n      <td>PS00825</td>\n      <td>1</td>\n      <td>cytoplasm</td>\n      <td>G234126</td>\n      <td>Genetic-Physical</td>\n      <td>0.914095071.</td>\n    </tr>\n  </tbody>\n</table>\n</div>"
     },
     "metadata": {},
     "execution_count": 211
    }
   ],
   "source": [
    "combined_training = preprocess(data_Genes_relation, data_Interactions_relation)\n",
    "combined_training.head()"
   ]
  },
  {
   "cell_type": "code",
   "execution_count": 212,
   "metadata": {},
   "outputs": [
    {
     "output_type": "execute_result",
     "data": {
      "text/plain": [
       "    GeneID      Essential                  Class  \\\n",
       "0  G234273      Essential                ATPases   \n",
       "1  G234490  Non-Essential  Transcription factors   \n",
       "2  G236380            NaN                    NaN   \n",
       "3  G234394      Essential                 Actins   \n",
       "3  G234394      Essential                 Actins   \n",
       "\n",
       "                                             Complex  \\\n",
       "0  Chaperonine containing T-complex TRiC (TCP RIN...   \n",
       "1                                                NaN   \n",
       "2                                                NaN   \n",
       "3                                       Cytoskeleton   \n",
       "3                                       Cytoskeleton   \n",
       "\n",
       "                               Phenotype    Motif Chromosome Interaction  \\\n",
       "0  Cell morphology and organelle mutants      NaN          4     G234779   \n",
       "1  Cell morphology and organelle mutants  PS00028          8     G234575   \n",
       "2                                    NaN      NaN          7     G235332   \n",
       "3                     Cell cycle defects  PS00432          6     G234215   \n",
       "3                     Cell cycle defects  PS00432          6     G235769   \n",
       "\n",
       "       Type Expression_Corr  \n",
       "0   Genetic             NaN  \n",
       "1       NaN    -0.40745963.  \n",
       "2  Physical     0.82722864.  \n",
       "3   Genetic     0.55772219.  \n",
       "3       NaN     0.55519542.  "
      ],
      "text/html": "<div>\n<style scoped>\n    .dataframe tbody tr th:only-of-type {\n        vertical-align: middle;\n    }\n\n    .dataframe tbody tr th {\n        vertical-align: top;\n    }\n\n    .dataframe thead th {\n        text-align: right;\n    }\n</style>\n<table border=\"1\" class=\"dataframe\">\n  <thead>\n    <tr style=\"text-align: right;\">\n      <th></th>\n      <th>GeneID</th>\n      <th>Essential</th>\n      <th>Class</th>\n      <th>Complex</th>\n      <th>Phenotype</th>\n      <th>Motif</th>\n      <th>Chromosome</th>\n      <th>Interaction</th>\n      <th>Type</th>\n      <th>Expression_Corr</th>\n    </tr>\n  </thead>\n  <tbody>\n    <tr>\n      <th>0</th>\n      <td>G234273</td>\n      <td>Essential</td>\n      <td>ATPases</td>\n      <td>Chaperonine containing T-complex TRiC (TCP RIN...</td>\n      <td>Cell morphology and organelle mutants</td>\n      <td>NaN</td>\n      <td>4</td>\n      <td>G234779</td>\n      <td>Genetic</td>\n      <td>NaN</td>\n    </tr>\n    <tr>\n      <th>1</th>\n      <td>G234490</td>\n      <td>Non-Essential</td>\n      <td>Transcription factors</td>\n      <td>NaN</td>\n      <td>Cell morphology and organelle mutants</td>\n      <td>PS00028</td>\n      <td>8</td>\n      <td>G234575</td>\n      <td>NaN</td>\n      <td>-0.40745963.</td>\n    </tr>\n    <tr>\n      <th>2</th>\n      <td>G236380</td>\n      <td>NaN</td>\n      <td>NaN</td>\n      <td>NaN</td>\n      <td>NaN</td>\n      <td>NaN</td>\n      <td>7</td>\n      <td>G235332</td>\n      <td>Physical</td>\n      <td>0.82722864.</td>\n    </tr>\n    <tr>\n      <th>3</th>\n      <td>G234394</td>\n      <td>Essential</td>\n      <td>Actins</td>\n      <td>Cytoskeleton</td>\n      <td>Cell cycle defects</td>\n      <td>PS00432</td>\n      <td>6</td>\n      <td>G234215</td>\n      <td>Genetic</td>\n      <td>0.55772219.</td>\n    </tr>\n    <tr>\n      <th>3</th>\n      <td>G234394</td>\n      <td>Essential</td>\n      <td>Actins</td>\n      <td>Cytoskeleton</td>\n      <td>Cell cycle defects</td>\n      <td>PS00432</td>\n      <td>6</td>\n      <td>G235769</td>\n      <td>NaN</td>\n      <td>0.55519542.</td>\n    </tr>\n  </tbody>\n</table>\n</div>"
     },
     "metadata": {},
     "execution_count": 212
    }
   ],
   "source": [
    "combined_test = preprocess(test_Genes_relation, test_Interactions_relation)\n",
    "# Remove 'Localization' attribute\n",
    "combined_test.drop(columns='Localization', axis=1, inplace=True)\n",
    "combined_test.head()"
   ]
  },
  {
   "source": [
    "# Find Entropy of each attribute"
   ],
   "cell_type": "markdown",
   "metadata": {}
  },
  {
   "cell_type": "code",
   "execution_count": 213,
   "metadata": {},
   "outputs": [],
   "source": [
    "# Status: Working\n",
    "def Info(attribute_column, attribute_value, class_column):\n",
    "    # Calculate the information needed to classify a tuple of this attribute_value in D\n",
    "\n",
    "    \n",
    "    count_value_occurances = list(attribute_column).count(attribute_value)\n",
    "    dataframe_subset = pd.concat([attribute_column, class_column], axis=1)\n",
    "    dataframe_subset.columns = ['Attribute Value', 'Class Value']\n",
    "    # print(dataframe_subset)\n",
    "\n",
    "    # Only look at the tuples with attribute_column value == value\n",
    "    dataframe_subset1 = dataframe_subset[dataframe_subset['Attribute Value'] == attribute_value]\n",
    "\n",
    "    # print(dataframe_subset1)\n",
    "\n",
    "    # Calculate -p_i log_2(p_i) for each class_value and sum them up\n",
    "    inner_sum = 0\n",
    "    for class_value in class_column.unique():\n",
    "        # Count the number of occurances of a class (for this attribute_value)\n",
    "        class_value_count = list(dataframe_subset1['Class Value']).count(class_value)\n",
    "        # Determine p_i from class\n",
    "        p_i = class_value_count / count_value_occurances\n",
    "\n",
    "        # print('Class value: {}'.format(class_value))\n",
    "        # print('p_i: {:1.4f}'.format(p_i))\n",
    "\n",
    "        # Calculate Entropy and add them all up\n",
    "        if p_i != 0:\n",
    "            inner_sum = inner_sum - (p_i) * np.log2(p_i)\n",
    "        # Ignore p_i if it is 0\n",
    "        # This prevents us from taking the log of 0 (which is undefined)\n",
    "    return inner_sum"
   ]
  },
  {
   "cell_type": "code",
   "execution_count": 214,
   "metadata": {},
   "outputs": [],
   "source": [
    "# Status: Working\n",
    "def Info_A(attribute_column, class_column):\n",
    "    # Calculate the information needed to classify tuples after split on attribute A\n",
    "\n",
    "    outer_sum = 0\n",
    "    # Find the number of tuples in this attribute\n",
    "    attribute_size = len(list(attribute_column))\n",
    "    for value in attribute_column.unique():\n",
    "        # Find |D_j| in our Information equation\n",
    "        num_value_occurances = list(attribute_column).count(value)\n",
    "        # Find Info_A (D) in our Information equation\n",
    "        outer_sum = outer_sum + (num_value_occurances / attribute_size) * Info(attribute_column, value, class_column)\n",
    "    return outer_sum"
   ]
  },
  {
   "cell_type": "code",
   "execution_count": 215,
   "metadata": {},
   "outputs": [],
   "source": [
    "# Status: Working\n",
    "def find_Entropies_of(dataframe, class_attribute, exclude_attribute):\n",
    "    \"\"\"\n",
    "    Calculate the information needed to split on each attribute\n",
    "\n",
    "    Input: \n",
    "        dataframe: DataFrame object with all data\n",
    "        class_attribute: String specifying column of class we want to predict\n",
    "    Return:\n",
    "        A DataFrame object listing the information needed to split on each attribute (other than the class_attribute)\n",
    "\n",
    "    Note: This algorithm skips over missing values\n",
    "    Can handle when no occurances of a class value for a specific attribute value (when p_i == 0)\n",
    "    \"\"\"\n",
    "\n",
    "    infos = pd.DataFrame({'Attribute': [], 'Entropy': []})\n",
    "    dataframe_minus_class_attribute = dataframe.drop(class_attribute, axis=1)\n",
    "    dataframe_minus_class_attribute.drop(exclude_attribute, axis=1, inplace=True)\n",
    "    # print(dataframe_minus_class_attribute)\n",
    "\n",
    "    # Get all Infos into 'infos' dataframe\n",
    "    for attribute in dataframe_minus_class_attribute.columns:\n",
    "        # For each attribute calculate the Info_A(D)\n",
    "        new_row = {'Attribute': attribute, 'Entropy': Info_A(dataframe[attribute], dataframe[class_attribute])}\n",
    "        infos = infos.append(new_row, ignore_index=True)\n",
    "\n",
    "    # Sort attributes by decreasing Entropy of splitting on that attribute\n",
    "    infos.sort_values(by='Entropy', axis=0, inplace=True)\n",
    "    # Change the index to the attribute names\n",
    "    infos.set_index('Attribute', drop=True, inplace=True)\n",
    "\n",
    "    return infos"
   ]
  },
  {
   "cell_type": "code",
   "execution_count": 216,
   "metadata": {},
   "outputs": [
    {
     "output_type": "execute_result",
     "data": {
      "text/plain": [
       "                  Entropy\n",
       "Attribute                \n",
       "Expression_Corr  0.069748\n",
       "Interaction      0.276533\n",
       "Complex          0.301106\n",
       "Motif            0.342933\n",
       "Class            0.391346\n",
       "Type             1.721958\n",
       "Phenotype        1.763032\n",
       "Chromosome       2.203626\n",
       "Essential        2.431559"
      ],
      "text/html": "<div>\n<style scoped>\n    .dataframe tbody tr th:only-of-type {\n        vertical-align: middle;\n    }\n\n    .dataframe tbody tr th {\n        vertical-align: top;\n    }\n\n    .dataframe thead th {\n        text-align: right;\n    }\n</style>\n<table border=\"1\" class=\"dataframe\">\n  <thead>\n    <tr style=\"text-align: right;\">\n      <th></th>\n      <th>Entropy</th>\n    </tr>\n    <tr>\n      <th>Attribute</th>\n      <th></th>\n    </tr>\n  </thead>\n  <tbody>\n    <tr>\n      <th>Expression_Corr</th>\n      <td>0.069748</td>\n    </tr>\n    <tr>\n      <th>Interaction</th>\n      <td>0.276533</td>\n    </tr>\n    <tr>\n      <th>Complex</th>\n      <td>0.301106</td>\n    </tr>\n    <tr>\n      <th>Motif</th>\n      <td>0.342933</td>\n    </tr>\n    <tr>\n      <th>Class</th>\n      <td>0.391346</td>\n    </tr>\n    <tr>\n      <th>Type</th>\n      <td>1.721958</td>\n    </tr>\n    <tr>\n      <th>Phenotype</th>\n      <td>1.763032</td>\n    </tr>\n    <tr>\n      <th>Chromosome</th>\n      <td>2.203626</td>\n    </tr>\n    <tr>\n      <th>Essential</th>\n      <td>2.431559</td>\n    </tr>\n  </tbody>\n</table>\n</div>"
     },
     "metadata": {},
     "execution_count": 216
    }
   ],
   "source": [
    "find_Entropies_of(combined_training, class_attribute='Localization', exclude_attribute='GeneID')"
   ]
  },
  {
   "source": [
    "### Findings\n",
    "From highest correlation (lowest expected entropy) with 'Localization' to lowest (highest expected entropy) we have:\n",
    "\n",
    "1. Expression_Corr\n",
    "1. Interaction\n",
    "1. Complex\n",
    "1. Motif\n",
    "1. Class\n",
    "1. Phenotype\n",
    "1. Chromosome\n",
    "1. Essential"
   ],
   "cell_type": "markdown",
   "metadata": {}
  },
  {
   "source": [
    "# Model Building Methods\n",
    "Using KNN just like class example: Hayashi\n",
    "\n",
    "Except weighting based on entropy."
   ],
   "cell_type": "markdown",
   "metadata": {}
  },
  {
   "cell_type": "code",
   "execution_count": 217,
   "metadata": {},
   "outputs": [],
   "source": [
    "def find_weights(training_relation, class_attribute, id_attribute):\n",
    "    # Calculate entropy for all attributes\n",
    "    info_dataframe = find_Entropies_of(training_relation, class_attribute, id_attribute)\n",
    "    weights_dataframe = info_dataframe.copy()\n",
    "\n",
    "    # Calculate weights using 1/ entropy\n",
    "    # This just reverses the magnitudes of the entropies, keeping everything positive\n",
    "    for index, row in weights_dataframe.iterrows():\n",
    "        if row['Entropy'] != 0:\n",
    "            row['Entropy'] = 1 / row['Entropy']\n",
    "    # weights_dataframe['Entropy'] = 1 / weights_dataframe['Entropy']\n",
    "    weights_dataframe.rename(columns={'Entropy':'Weights'}, inplace=True)\n",
    "    weights_dataframe = weights_dataframe.iloc[:4]\n",
    "    return weights_dataframe"
   ]
  },
  {
   "cell_type": "code",
   "execution_count": 218,
   "metadata": {},
   "outputs": [],
   "source": [
    "def similarity(weights, tuple_i, tuple_j):\n",
    "    '''\n",
    "    Input\n",
    "        weights: DataFrame containing the list of attributes (as index values) and the associated weight of each attribute (as column)\n",
    "        tuple_i: tuple with labeled columns\n",
    "        tuple_j: tuple with labeled columns\n",
    "    '''\n",
    "    # Find distance from the interaction relation\n",
    "    # dist_sum = distance_from_interaction(weights['Interaction'], interactions_dataframe, tuple_i, tuple_j)\n",
    "    sim_sum = 0\n",
    "    for attribute in weights.index:\n",
    "        attribute_weight = float(weights['Weights'][attribute])\n",
    "        # Only add similarity between tuples if attributes agree\n",
    "        # Note: this does not add if one or both values are NaN\n",
    "        if tuple_i[attribute] == tuple_j[attribute]:\n",
    "            sim_sum = sim_sum + attribute_weight\n",
    "            \n",
    "    return sim_sum"
   ]
  },
  {
   "cell_type": "code",
   "execution_count": 219,
   "metadata": {},
   "outputs": [],
   "source": [
    "def find_similarities(test_tuple, training_relation, id_attribute, weights):\n",
    "    similarities_dataframe = pd.DataFrame({'From':[], 'To':[], 'Similarity':[]})\n",
    "\n",
    "    for index, training_tuple in training_relation.iterrows():\n",
    "        sim_ij = similarity(weights, test_tuple, training_tuple)\n",
    "        row_to_add = pd.DataFrame({'From':[training_tuple[id_attribute]], 'To':[test_tuple[id_attribute]], 'Similarity':[sim_ij]})\n",
    "        similarities_dataframe = similarities_dataframe.append(row_to_add.copy(), ignore_index=True)\n",
    "    \n",
    "    similarities_dataframe.set_index('From', drop=True, inplace=True)\n",
    "    return similarities_dataframe"
   ]
  },
  {
   "cell_type": "code",
   "execution_count": 225,
   "metadata": {},
   "outputs": [],
   "source": [
    "class MyKNNModel:\n",
    "    def __init__(self, training_relation, class_attribute, id_attribute, k):\n",
    "        # This is basically the training of the model\n",
    "        # The only thing that is calculated here are the weights\n",
    "        self.training_data = training_relation\n",
    "        self.k = k\n",
    "        self.class_attribute = class_attribute\n",
    "        self.id_attribute = id_attribute\n",
    "        self.weights = find_weights(self.training_data, self.class_attribute, self.id_attribute)\n",
    "        self.predictions = pd.DataFrame({self.id_attribute:[], 'Prediction':[]}) # Create output dataframe to use later\n",
    "\n",
    "    def predict(self, test_relation):\n",
    "        # For each test tuple, calculate the distances between it and all the training tuples\n",
    "        for index, test_tuple in test_relation.iterrows():\n",
    "            similarities_to_tuple = find_similarities(test_tuple, self.training_data, self.id_attribute, self.weights)\n",
    "\n",
    "            # Find the k nearest neighbors and record their class labels\n",
    "            knn_labels = np.array([])\n",
    "            while len(knn_labels) < self.k:\n",
    "                # Find the nearest neighbor\n",
    "                max_sim = max(similarities_to_tuple['Similarity'])\n",
    "                max_sim_GeneID = similarities_to_tuple.loc[similarities_to_tuple['Similarity'] == max_sim].index[0]\n",
    "                \n",
    "                # Add that neighbor's class label to the list for voting\n",
    "                label_to_add = np.array([self.training_data[self.training_data[self.id_attribute] == max_sim_GeneID][self.class_attribute]][0])\n",
    "                knn_labels = np.concatenate((knn_labels, label_to_add))\n",
    "\n",
    "                # Remove that tuple from list so next nearest can be found\n",
    "                similarities_to_tuple.drop(max_sim_GeneID, inplace=True)\n",
    "\n",
    "            # Now knn_labels has the labels of the k nearest neighbors to this particular test tuple\n",
    "            # Find the most frequent label in knn_labels and set that as the prediction for this test_tuple\n",
    "            self.predictions = self.predictions.append({self.id_attribute: test_tuple[self.id_attribute], 'Prediction': mode(knn_labels)}, ignore_index=True)\n",
    "\n",
    "        return"
   ]
  },
  {
   "source": [
    "# Build Model"
   ],
   "cell_type": "markdown",
   "metadata": {}
  },
  {
   "source": [
    "## Choose smaller datasets: Original training was 7244 tuples, just take first 500 of those, same with test set"
   ],
   "cell_type": "markdown",
   "metadata": {}
  },
  {
   "cell_type": "code",
   "execution_count": 221,
   "metadata": {},
   "outputs": [],
   "source": [
    "new_training = combined_training.iloc[:500]\n",
    "new_test = combined_test.iloc[:500]\n",
    "new_keys = keys_relation.iloc[:500]"
   ]
  },
  {
   "cell_type": "code",
   "execution_count": 226,
   "metadata": {},
   "outputs": [],
   "source": [
    "my_model = MyKNNModel(new_training, class_attribute='Localization', id_attribute='GeneID', k=5)"
   ]
  },
  {
   "cell_type": "code",
   "execution_count": 227,
   "metadata": {},
   "outputs": [
    {
     "output_type": "execute_result",
     "data": {
      "text/plain": [
       "                  Weights\n",
       "Attribute                \n",
       "Interaction      0.000000\n",
       "Expression_Corr  0.000000\n",
       "Complex          8.662915\n",
       "Motif            4.277524"
      ],
      "text/html": "<div>\n<style scoped>\n    .dataframe tbody tr th:only-of-type {\n        vertical-align: middle;\n    }\n\n    .dataframe tbody tr th {\n        vertical-align: top;\n    }\n\n    .dataframe thead th {\n        text-align: right;\n    }\n</style>\n<table border=\"1\" class=\"dataframe\">\n  <thead>\n    <tr style=\"text-align: right;\">\n      <th></th>\n      <th>Weights</th>\n    </tr>\n    <tr>\n      <th>Attribute</th>\n      <th></th>\n    </tr>\n  </thead>\n  <tbody>\n    <tr>\n      <th>Interaction</th>\n      <td>0.000000</td>\n    </tr>\n    <tr>\n      <th>Expression_Corr</th>\n      <td>0.000000</td>\n    </tr>\n    <tr>\n      <th>Complex</th>\n      <td>8.662915</td>\n    </tr>\n    <tr>\n      <th>Motif</th>\n      <td>4.277524</td>\n    </tr>\n  </tbody>\n</table>\n</div>"
     },
     "metadata": {},
     "execution_count": 227
    }
   ],
   "source": [
    "my_model.weights"
   ]
  },
  {
   "cell_type": "code",
   "execution_count": 228,
   "metadata": {
    "tags": []
   },
   "outputs": [],
   "source": [
    "my_model.predict(new_test)"
   ]
  },
  {
   "cell_type": "code",
   "execution_count": 229,
   "metadata": {},
   "outputs": [
    {
     "output_type": "execute_result",
     "data": {
      "text/plain": [
       "    GeneID    Prediction\n",
       "0  G234273     cytoplasm\n",
       "1  G234490     cytoplasm\n",
       "2  G236380     cytoplasm\n",
       "3  G234394  cytoskeleton\n",
       "4  G234394  cytoskeleton"
      ],
      "text/html": "<div>\n<style scoped>\n    .dataframe tbody tr th:only-of-type {\n        vertical-align: middle;\n    }\n\n    .dataframe tbody tr th {\n        vertical-align: top;\n    }\n\n    .dataframe thead th {\n        text-align: right;\n    }\n</style>\n<table border=\"1\" class=\"dataframe\">\n  <thead>\n    <tr style=\"text-align: right;\">\n      <th></th>\n      <th>GeneID</th>\n      <th>Prediction</th>\n    </tr>\n  </thead>\n  <tbody>\n    <tr>\n      <th>0</th>\n      <td>G234273</td>\n      <td>cytoplasm</td>\n    </tr>\n    <tr>\n      <th>1</th>\n      <td>G234490</td>\n      <td>cytoplasm</td>\n    </tr>\n    <tr>\n      <th>2</th>\n      <td>G236380</td>\n      <td>cytoplasm</td>\n    </tr>\n    <tr>\n      <th>3</th>\n      <td>G234394</td>\n      <td>cytoskeleton</td>\n    </tr>\n    <tr>\n      <th>4</th>\n      <td>G234394</td>\n      <td>cytoskeleton</td>\n    </tr>\n  </tbody>\n</table>\n</div>"
     },
     "metadata": {},
     "execution_count": 229
    }
   ],
   "source": [
    "my_model.predictions.head()"
   ]
  },
  {
   "cell_type": "code",
   "execution_count": 176,
   "metadata": {},
   "outputs": [
    {
     "output_type": "execute_result",
     "data": {
      "text/plain": [
       "    GeneID  Localization\n",
       "0  G234062  mitochondria\n",
       "1  G234081       nucleus\n",
       "2  G234086  mitochondria\n",
       "3  G234087       nucleus\n",
       "4  G234094       nucleus"
      ],
      "text/html": "<div>\n<style scoped>\n    .dataframe tbody tr th:only-of-type {\n        vertical-align: middle;\n    }\n\n    .dataframe tbody tr th {\n        vertical-align: top;\n    }\n\n    .dataframe thead th {\n        text-align: right;\n    }\n</style>\n<table border=\"1\" class=\"dataframe\">\n  <thead>\n    <tr style=\"text-align: right;\">\n      <th></th>\n      <th>GeneID</th>\n      <th>Localization</th>\n    </tr>\n  </thead>\n  <tbody>\n    <tr>\n      <th>0</th>\n      <td>G234062</td>\n      <td>mitochondria</td>\n    </tr>\n    <tr>\n      <th>1</th>\n      <td>G234081</td>\n      <td>nucleus</td>\n    </tr>\n    <tr>\n      <th>2</th>\n      <td>G234086</td>\n      <td>mitochondria</td>\n    </tr>\n    <tr>\n      <th>3</th>\n      <td>G234087</td>\n      <td>nucleus</td>\n    </tr>\n    <tr>\n      <th>4</th>\n      <td>G234094</td>\n      <td>nucleus</td>\n    </tr>\n  </tbody>\n</table>\n</div>"
     },
     "metadata": {},
     "execution_count": 176
    }
   ],
   "source": [
    "new_keys.head()"
   ]
  },
  {
   "source": [
    "# Model Evaluation"
   ],
   "cell_type": "markdown",
   "metadata": {}
  },
  {
   "cell_type": "code",
   "execution_count": 168,
   "metadata": {},
   "outputs": [],
   "source": [
    "def find_accuracy(predictions, id_attribute, keys):\n",
    "    '''\n",
    "    Input\n",
    "        predictions: the classes of the test data that my model found\n",
    "        keys: the true classes of the test data\n",
    "    '''\n",
    "    local_predictions = predictions.set_index(id_attribute, drop=True)\n",
    "    # This will automatically match GeneID since 'GeneID' is index for both dataframes\n",
    "    combined_dataframe = local_predictions.join(keys.set_index(id_attribute, drop=True))\n",
    "\n",
    "    n = combined_dataframe.index.size\n",
    "    # Count number of correctly classified tuples\n",
    "    number_correct = 0\n",
    "    for index, row in combined_dataframe.iterrows():\n",
    "        if row['Prediction'] == row['Localization']:\n",
    "            number_correct = number_correct + 1\n",
    "\n",
    "    return number_correct / n"
   ]
  },
  {
   "cell_type": "code",
   "execution_count": 230,
   "metadata": {},
   "outputs": [
    {
     "output_type": "execute_result",
     "data": {
      "text/plain": [
       "0.57"
      ]
     },
     "metadata": {},
     "execution_count": 230
    }
   ],
   "source": [
    "find_accuracy(predictions=my_model.predictions, id_attribute='GeneID', keys=new_keys)"
   ]
  },
  {
   "source": [
    "# Write Results to Output File"
   ],
   "cell_type": "markdown",
   "metadata": {}
  },
  {
   "cell_type": "code",
   "execution_count": 233,
   "metadata": {},
   "outputs": [],
   "source": [
    "my_model.predictions.to_csv(path_or_buf='ModelPredictions.csv', header=False, index=False)"
   ]
  }
 ]
}